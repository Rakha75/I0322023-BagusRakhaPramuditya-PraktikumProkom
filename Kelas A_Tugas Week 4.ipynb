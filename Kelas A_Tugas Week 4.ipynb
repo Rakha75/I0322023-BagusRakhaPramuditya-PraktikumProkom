{
 "cells": [
  {
   "cell_type": "code",
   "execution_count": 2,
   "metadata": {},
   "outputs": [
    {
     "name": "stdout",
     "output_type": "stream",
     "text": [
      "Bagus Rakha Pramuditya\n",
      "I0322023\n",
      "A\n"
     ]
    }
   ],
   "source": [
    "print(input(\"Nama: \"))\n",
    "print(input(\"NIM: \"))\n",
    "print(input(\"Kelas: \"))"
   ]
  },
  {
   "attachments": {},
   "cell_type": "markdown",
   "metadata": {},
   "source": [
    "## 1."
   ]
  },
  {
   "attachments": {},
   "cell_type": "markdown",
   "metadata": {},
   "source": [
    "Buatlah program persyaratan pembuatan SIM dengan input yaitu nama user, umur user, dan nilai tes user.<br>\n",
    "Dengan ketentuan mendapat SIM sebagai berikut:\n",
    "* Umur dari user harus lebih dari sama dengan 17 tahun\n",
    "* Nilai tes lebih dari sama dengan 70\n",
    "\n",
    "<br>Output yang dihasilkan dari program adalah:\n",
    "<br>\"Selamat Anda Berhak Mendapatkan SIM Anda\"\n",
    "<br>\"Maaf, Anda tidak berhak mendapatkan SIM anda\"\n",
    "> *note: Kerjakan soal ini dengan percabangan*"
   ]
  },
  {
   "cell_type": "code",
   "execution_count": 4,
   "metadata": {},
   "outputs": [
    {
     "name": "stdout",
     "output_type": "stream",
     "text": [
      "Bagus ,anda berhak menerima SIM\n"
     ]
    }
   ],
   "source": [
    "# Kerjakan soal no 1 di sini\n",
    "nama = input(\"Masukkan nama: \")\n",
    "umur = int(input(\"Masukkan umur: \"))\n",
    "nilai = int(input(\"Masukkan nilai tes: \"))\n",
    "\n",
    "if umur >= 17:\n",
    "    if nilai >=70:\n",
    "        print(nama, \",anda berhak menerima SIM\")\n",
    "    else:\n",
    "        print(\"Maaf\", nama, \",anda belum berhak menerima SIM\")\n",
    "else:\n",
    "    print(\"Maaf\",nama, \",anda belum berhak menerima SIM\")\n"
   ]
  },
  {
   "attachments": {},
   "cell_type": "markdown",
   "metadata": {},
   "source": [
    "## 2."
   ]
  },
  {
   "attachments": {},
   "cell_type": "markdown",
   "metadata": {},
   "source": [
    "Buatlah program untuk mencari bilangan terbesar yang diinput dari user.<br>\n",
    "<br>Dengan ketentuan sebagai berikut:\n",
    "* Program nenerima 3 input bilangan dari user\n",
    "* Program akan menentukan mana bilangan terbesar\n",
    "* Output yang akan dihasilkan misalnya adalah \"Dari bil_1, bil_2, dan bil_3, bilangan terbesarnya adalah bilangan bil_2\"\n",
    "> *note: Kerjakan soal ini dengan percabangan*"
   ]
  },
  {
   "cell_type": "code",
   "execution_count": 5,
   "metadata": {},
   "outputs": [
    {
     "name": "stdout",
     "output_type": "stream",
     "text": [
      "Dari 12 , 13 , dan 10 bilangan terbesar adalah  13\n"
     ]
    }
   ],
   "source": [
    "# Kerjakan soal nomor 2 disini\n",
    "bilangan1 = int(input(\"masukkan bilangan pertama: \"))\n",
    "bilangan2 = int(input(\"masukkan bilangan kedua: \"))\n",
    "bilangan3 = int(input(\"masukkan bilangan ketiga: \"))\n",
    "\n",
    "if bilangan1> bilangan2 and bilangan1> bilangan3:\n",
    "    print(\"Dari\", bilangan1,\",\",bilangan2,\", dan\", bilangan3, \"bilangan terbesar adalah \", bilangan1 )\n",
    "elif bilangan3> bilangan1 and bilangan3> bilangan2:\n",
    "    print(\"Dari\", bilangan1,\",\",bilangan2,\", dan\", bilangan3, \"bilangan terbesar adalah \", bilangan3 )\n",
    "else:\n",
    "    print(\"Dari\", bilangan1,\",\",bilangan2,\", dan\", bilangan3, \"bilangan terbesar adalah \", bilangan2 )"
   ]
  }
 ],
 "metadata": {
  "kernelspec": {
   "display_name": "Python 3",
   "language": "python",
   "name": "python3"
  },
  "language_info": {
   "codemirror_mode": {
    "name": "ipython",
    "version": 3
   },
   "file_extension": ".py",
   "mimetype": "text/x-python",
   "name": "python",
   "nbconvert_exporter": "python",
   "pygments_lexer": "ipython3",
   "version": "3.10.7"
  },
  "orig_nbformat": 4,
  "vscode": {
   "interpreter": {
    "hash": "1ed91dfe9bd958efb5d6baa571ff3a365eb9cebb00741a1b726765c15818a969"
   }
  }
 },
 "nbformat": 4,
 "nbformat_minor": 2
}
