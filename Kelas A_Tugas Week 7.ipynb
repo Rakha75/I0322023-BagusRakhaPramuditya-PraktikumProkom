{
 "cells": [
  {
   "cell_type": "code",
   "execution_count": 2,
   "metadata": {},
   "outputs": [
    {
     "name": "stdout",
     "output_type": "stream",
     "text": [
      "2 4 6 8 \n",
      "0 1 3 5 \n",
      "6 7 8 9 \n"
     ]
    },
    {
     "data": {
      "text/plain": [
       "[[2, 4, 6, 8], [0, 1, 3, 5], [6, 7, 8, 9]]"
      ]
     },
     "execution_count": 2,
     "metadata": {},
     "output_type": "execute_result"
    }
   ],
   "source": [
    "#Buatlah sebuah fungsi untuk membuat matrix berdasarkan input dari user\n",
    "\n",
    "def create_matrix(baris,kolom):\n",
    "    matrix = []\n",
    "    for i in range(baris):\n",
    "        matrix.append([])\n",
    "\n",
    "        for j in range(kolom):\n",
    "            elemen = int(input(f\"Masukkan elemen matriks[{i}][{j}]: \"))\n",
    "            matrix[i].append(elemen)\n",
    "        \n",
    "    for i in range(baris):\n",
    "        for j in range(kolom):\n",
    "            print(matrix[i][j], end=\" \")\n",
    "        print()\n",
    "\n",
    "    #Tulis kode kamu disini\n",
    "\n",
    "\n",
    "    return matrix\n",
    "\n",
    "\n",
    "baris = int(input('Masukkan Jumlah Baris:\\t'))\n",
    "kolom = int(input('Masukkan Jumlah Kolom:\\t'))\n",
    "\n",
    "create_matrix(baris,kolom)"
   ]
  },
  {
   "cell_type": "code",
   "execution_count": 3,
   "metadata": {},
   "outputs": [
    {
     "data": {
      "text/plain": [
       "[7, 7, 10, 13, 15, 8, 10, 6, 8, 7, 9, 11]"
      ]
     },
     "execution_count": 3,
     "metadata": {},
     "output_type": "execute_result"
    }
   ],
   "source": [
    "#Buatlah sebuah fungsi untuk menambah dua matrix berdasarkan input user\n",
    "\n",
    "def tambah_matrix(matrix1,matrix2):\n",
    "    tambah = []\n",
    "\n",
    "     # membuat matriks pertama\n",
    "    for i in range(baris):\n",
    "        matrixA.append([])\n",
    "\n",
    "        for j in range(kolom):\n",
    "            elemen = int(input(f\"Masukkan elemen matriks[{i}][{j}]: \"))\n",
    "            matrixA[i].append(elemen)\n",
    "    \n",
    "    # membuat matriks kedua\n",
    "    for i in range(baris):\n",
    "        matrixB.append([])\n",
    "\n",
    "        for j in range(kolom):\n",
    "            elemen = int(input(f\"Masukkan elemen matriks[{i}][{j}]: \"))\n",
    "            matrixB[i].append(elemen)\n",
    "    \n",
    "    # menjumlahkan matriks\n",
    "    for i in range(baris):\n",
    "        for j in range(kolom):\n",
    "            elemen = matrixA[i][j] + matrixB[i][j]\n",
    "            tambah.append(elemen)\n",
    "\n",
    "\n",
    "    return tambah\n",
    "\n",
    "matrixA = []\n",
    "matrixB = []\n",
    "\n",
    "tambah_matrix(matrixA, matrixB)"
   ]
  },
  {
   "cell_type": "code",
   "execution_count": 5,
   "metadata": {},
   "outputs": [
    {
     "name": "stdout",
     "output_type": "stream",
     "text": [
      "22 28 28 32 \n",
      "98 119 92 97 \n",
      "85 103 79 83 \n"
     ]
    },
    {
     "data": {
      "text/plain": [
       "[[22, 28, 28, 32], [98, 119, 92, 97], [85, 103, 79, 83]]"
      ]
     },
     "execution_count": 5,
     "metadata": {},
     "output_type": "execute_result"
    }
   ],
   "source": [
    "#Buatlah fungsi untuk mengakalikan dua buah matrix berdasarkan input user\n",
    "\n",
    "def multiply_matrix(matrix1, matrix2):\n",
    "    result=[]\n",
    "     # membuat matriks pertama\n",
    "    for i in range(baris):\n",
    "        matrix1.append([])\n",
    "\n",
    "        for j in range(kolom):\n",
    "            elemen = int(input(f\"Masukkan elemen matriks[{i}][{j}]: \"))\n",
    "            matrix1[i].append(elemen)\n",
    "    \n",
    "    # membuat matriks kedua\n",
    "    for i in range(baris):\n",
    "        matrix2.append([])\n",
    "\n",
    "        for j in range(kolom):\n",
    "            elemen = int(input(f\"Masukkan elemen matriks[{i}][{j}]: \"))\n",
    "            matrix2[i].append(elemen)\n",
    "\n",
    "    # mengkalikan matriks\n",
    "    for x in range(0, len(matrix1)):\n",
    "        row = []\n",
    "        for y in range(0, len(matrix1[0])):\n",
    "            total = 0\n",
    "            for z in range(0, len(matrix1)):\n",
    "                total = total + (matrix1[x][z] * matrix2[z][y])\n",
    "            row.append(total)\n",
    "        result.append(row)\n",
    "        \n",
    "    for x in range(0, len(result)):\n",
    "        for y in range(0, len(result[0])):\n",
    "            print (result[x][y], end=' ')\n",
    "        print()\n",
    "\n",
    "    return result\n",
    "\n",
    "\n",
    "matrix1 = []\n",
    "matrix2 = []\n",
    "\n",
    "multiply_matrix(matrix1, matrix2)"
   ]
  }
 ],
 "metadata": {
  "kernelspec": {
   "display_name": "Python 3",
   "language": "python",
   "name": "python3"
  },
  "language_info": {
   "codemirror_mode": {
    "name": "ipython",
    "version": 3
   },
   "file_extension": ".py",
   "mimetype": "text/x-python",
   "name": "python",
   "nbconvert_exporter": "python",
   "pygments_lexer": "ipython3",
   "version": "3.10.7"
  },
  "orig_nbformat": 4
 },
 "nbformat": 4,
 "nbformat_minor": 2
}
