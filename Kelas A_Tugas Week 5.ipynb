{
 "cells": [
  {
   "attachments": {},
   "cell_type": "markdown",
   "metadata": {},
   "source": [
    "1. Buatlah program untuk menampilkan total penjumlahan bilangan ganjil dan total penjumlahan bilangan genap dengan input dari user berupa range (batas atas dan batas bawah)!"
   ]
  },
  {
   "cell_type": "code",
   "execution_count": 6,
   "metadata": {},
   "outputs": [
    {
     "name": "stdout",
     "output_type": "stream",
     "text": [
      "Hasil penjumlahan pada range 2 - 8\n",
      "Total penjumlahan dari bilangan ganjil adalah = 7\n",
      "Total penjumlahan dari bilangan genap adalah = 8\n"
     ]
    }
   ],
   "source": [
    "# Kerjakan nomor 1 di sini\n",
    "batasatas = int(input(\"Masukkan batas atas sebuah bilangan\"))\n",
    "batasbawah = int(input(\"Masukkan batas bawah sebuah bilangan\"))\n",
    "\n",
    "hasil1 = 0\n",
    "hasil2 = 0\n",
    "\n",
    "for nilai in range(batasbawah, batasatas+1, 2):\n",
    "    total1 = hasil1 + nilai\n",
    "\n",
    "for nilai in range(batasbawah+1, batasatas+1, 2):\n",
    "    total2 = hasil2 + nilai \n",
    "\n",
    "if batasbawah % 2 == 0:\n",
    "    print(\"Hasil penjumlahan pada range\", batasbawah, \"-\", batasatas)\n",
    "    print(\"Total penjumlahan dari bilangan ganjil adalah =\", total2)\n",
    "    print(\"Total penjumlahan dari bilangan genap adalah =\", total1)\n",
    "else:\n",
    "    print(\"Hasil penjumlahan pada range\", batasbawah, \"-\", batasatas)\n",
    "    print(\"Total penjumlahan dari bilangan ganjil adalah =\", total1)\n",
    "    print(\"Total penjumlahan dari bilangan genap adalah =\", total2)"
   ]
  },
  {
   "attachments": {},
   "cell_type": "markdown",
   "metadata": {},
   "source": [
    "2. Buatlah sebuah list yang berisi daftar makanan khas daerah (minimal 10 makanan termasuk makanan khas Solo). Kemudian buat program pencarian menggunakan pengulangan. Apabila nama makanan yang user inputkan sudah sesuai dengan isi list maka program akan berhenti dan menampilkan output \"(makanan yang diinput user) adalah makanan khas daerah\"."
   ]
  },
  {
   "cell_type": "code",
   "execution_count": 10,
   "metadata": {},
   "outputs": [
    {
     "name": "stdout",
     "output_type": "stream",
     "text": [
      "Selat Solo\n",
      "Pempek\n",
      "Sate Padang\n",
      "Rendang\n",
      "Nasi Kapau\n",
      "Soto Lamongan\n",
      "Gandul\n",
      "Tekwan\n",
      "Papeda\n",
      "Sate Kere\n",
      "Bebek Betutu\n",
      "Nasi Kapau adalah makanan khas daerah\n"
     ]
    }
   ],
   "source": [
    "# Kerjakan nomor 2 di sini\n",
    "list=[\"Selat Solo\", \"Pempek\", \"Sate Padang\", \"Rendang\", \"Nasi Kapau\",\n",
    "      \"Soto Lamongan\", \"Gandul\", \"Tekwan\", \"Papeda\", \"Sate Kere\", \"Bebek Betutu\",\n",
    "      ]\n",
    "for makanan in list:\n",
    "    print(makanan)\n",
    "\n",
    "khas = input(\"Masukkan Nama Makanan Khas Daerah\")\n",
    "\n",
    "while khas not in list:\n",
    "    khas = input(\"Masukkan Nama Makanan Daerah\")\n",
    "while khas in list:\n",
    "    print(khas, \"adalah makanan khas daerah\")\n",
    "    break"
   ]
  },
  {
   "attachments": {},
   "cell_type": "markdown",
   "metadata": {},
   "source": [
    "3. Buatlah program untuk menghitung rata-rata 7 bilangan dimana bilangan-bilangan tersebut didapat melalui input user!"
   ]
  },
  {
   "cell_type": "code",
   "execution_count": 12,
   "metadata": {},
   "outputs": [
    {
     "name": "stdout",
     "output_type": "stream",
     "text": [
      "List bilangan : [8, 12, 0, 8, 1, 2, 3]\n",
      "Total semua bilangan adalah 34\n",
      "Nilai rata-rata bilangannya adalah 4.857142857142857\n"
     ]
    }
   ],
   "source": [
    "# Kerjakan nomor 3 di sini\n",
    "list = []\n",
    "total = 0\n",
    "for angka in range(7):\n",
    "    bilangan = int(input(\"Masukkan bilangan\"))\n",
    "    total += bilangan\n",
    "    list.append(bilangan)\n",
    "\n",
    "rata_rata = total/7\n",
    "\n",
    "print(\"List bilangan :\", list)\n",
    "print(\"Total semua bilangan adalah\", total)\n",
    "print(\"Nilai rata-rata bilangannya adalah\", rata_rata)"
   ]
  }
 ],
 "metadata": {
  "kernelspec": {
   "display_name": "Python 3",
   "language": "python",
   "name": "python3"
  },
  "language_info": {
   "codemirror_mode": {
    "name": "ipython",
    "version": 3
   },
   "file_extension": ".py",
   "mimetype": "text/x-python",
   "name": "python",
   "nbconvert_exporter": "python",
   "pygments_lexer": "ipython3",
   "version": "3.10.7"
  },
  "orig_nbformat": 4
 },
 "nbformat": 4,
 "nbformat_minor": 2
}
